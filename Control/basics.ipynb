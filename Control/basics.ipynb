{
 "cells": [
  {
   "cell_type": "code",
   "execution_count": 1,
   "metadata": {},
   "outputs": [],
   "source": [
    "from copy import deepcopy"
   ]
  },
  {
   "cell_type": "code",
   "execution_count": 3,
   "metadata": {},
   "outputs": [],
   "source": [
    "def printpaths(path, newpath):\n",
    "    for old, new in zip(path, newpath):\n",
    "        print('['+ ', '.join('%.3f'%x for x in old) + '] -> ['+ ', '.join('%.3f'%x for x in new) +']')\n",
    "\n",
    "path = [[0, 0],\n",
    "        [0, 1],\n",
    "        [0, 2],\n",
    "        [1, 2],\n",
    "        [2, 2],\n",
    "        [3, 2],\n",
    "        [4, 2],\n",
    "        [4, 3],\n",
    "        [4, 4]]"
   ]
  },
  {
   "cell_type": "code",
   "execution_count": 12,
   "metadata": {},
   "outputs": [],
   "source": [
    "def smooth(path, weight_data = 0.5, weight_smooth = 0.1, tolerance = 0.000001):\n",
    "    # Make a deep copy of path into newpath\n",
    "    newpath = deepcopy(path)\n",
    "    err = 1\n",
    "    while err > tolerance:\n",
    "        inner_err = 0\n",
    "        for i in range(1, len(path) - 1):\n",
    "            for j in range(len(path[0])):\n",
    "                aux = newpath[i][j]\n",
    "                newpath[i][j] = newpath[i][j] + weight_data*(path[i][j] - newpath[i][j]) \\\n",
    "                                + weight_smooth*(newpath[i+1][j] + newpath[i-1][j] - 2*newpath[i][j])\n",
    "                inner_err += abs(newpath[i][j] - aux)\n",
    "        err = inner_err\n",
    "    \n",
    "    return newpath "
   ]
  },
  {
   "cell_type": "code",
   "execution_count": 13,
   "metadata": {},
   "outputs": [
    {
     "name": "stdout",
     "output_type": "stream",
     "text": [
      "[0.000, 0.000] -> [0.000, 0.000]\n",
      "[0.000, 1.000] -> [0.021, 0.979]\n",
      "[0.000, 2.000] -> [0.149, 1.851]\n",
      "[1.000, 2.000] -> [1.021, 1.979]\n",
      "[2.000, 2.000] -> [2.000, 2.000]\n",
      "[3.000, 2.000] -> [2.979, 2.021]\n",
      "[4.000, 2.000] -> [3.851, 2.149]\n",
      "[4.000, 3.000] -> [3.979, 3.021]\n",
      "[4.000, 4.000] -> [4.000, 4.000]\n"
     ]
    }
   ],
   "source": [
    "printpaths(path, smooth(path))"
   ]
  },
  {
   "cell_type": "code",
   "execution_count": null,
   "metadata": {},
   "outputs": [],
   "source": []
  }
 ],
 "metadata": {
  "kernelspec": {
   "display_name": "Python 3",
   "language": "python",
   "name": "python3"
  },
  "language_info": {
   "codemirror_mode": {
    "name": "ipython",
    "version": 3
   },
   "file_extension": ".py",
   "mimetype": "text/x-python",
   "name": "python",
   "nbconvert_exporter": "python",
   "pygments_lexer": "ipython3",
   "version": "3.6.5"
  }
 },
 "nbformat": 4,
 "nbformat_minor": 2
}
