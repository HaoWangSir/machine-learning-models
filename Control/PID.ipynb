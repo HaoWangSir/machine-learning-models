{
 "cells": [
  {
   "cell_type": "markdown",
   "metadata": {},
   "source": [
    "PID\n",
    "---\n",
    "A proportional–integral–derivative controller (PID controller or three-term controller) "
   ]
  },
  {
   "cell_type": "code",
   "execution_count": 9,
   "metadata": {
    "code_folding": [
     4
    ]
   },
   "outputs": [],
   "source": [
    "%matplotlib inline\n",
    "import random\n",
    "import numpy as np\n",
    "import matplotlib.pyplot as plt"
   ]
  },
  {
   "cell_type": "code",
   "execution_count": 2,
   "metadata": {},
   "outputs": [],
   "source": [
    "class Robot(object):\n",
    "    def __init__(self, length=20.0):\n",
    "        \"\"\"\n",
    "        Creates robot and initializes location/orientation to 0, 0, 0.\n",
    "        \"\"\"\n",
    "        self.x = 0.0\n",
    "        self.y = 0.0\n",
    "        self.orientation = 0.0\n",
    "        self.length = length\n",
    "        self.steering_noise = 0.0\n",
    "        self.distance_noise = 0.0\n",
    "        self.steering_drift = 0.0\n",
    "\n",
    "    def set(self, x, y, orientation):\n",
    "        \"\"\"\n",
    "        Sets a robot coordinate.\n",
    "        \"\"\"\n",
    "        self.x = x\n",
    "        self.y = y\n",
    "        self.orientation = orientation % (2.0 * np.pi)\n",
    "\n",
    "    def set_noise(self, steering_noise, distance_noise):\n",
    "        \"\"\"\n",
    "        Sets the noise parameters.\n",
    "        \"\"\"\n",
    "        # makes it possible to change the noise parameters\n",
    "        # this is often useful in particle filters\n",
    "        self.steering_noise = steering_noise\n",
    "        self.distance_noise = distance_noise\n",
    "\n",
    "    def set_steering_drift(self, drift):\n",
    "        \"\"\"\n",
    "        Sets the systematical steering drift parameter\n",
    "        \"\"\"\n",
    "        self.steering_drift = drift\n",
    "\n",
    "    def move(self, steering, distance, tolerance=0.001, max_steering_angle=np.pi / 4.0):\n",
    "        \"\"\"\n",
    "        steering = front wheel steering angle, limited by max_steering_angle(max 90 degree)\n",
    "        distance = total distance driven, most be non-negative\n",
    "        \"\"\"\n",
    "        if steering > max_steering_angle:\n",
    "            steering = max_steering_angle\n",
    "        if steering < -max_steering_angle:\n",
    "            steering = -max_steering_angle\n",
    "        if distance < 0.0:\n",
    "            distance = 0.0\n",
    "\n",
    "        # apply noise\n",
    "        steering2 = random.gauss(steering, self.steering_noise)\n",
    "        distance2 = random.gauss(distance, self.distance_noise)\n",
    "\n",
    "        # apply steering drift\n",
    "        steering2 += self.steering_drift\n",
    "\n",
    "        # Execute motion\n",
    "        turn = np.tan(steering2) * distance2 / self.length\n",
    "\n",
    "        if abs(turn) < tolerance:\n",
    "            # approximate by straight line motion\n",
    "            self.x += distance2 * np.cos(self.orientation)\n",
    "            self.y += distance2 * np.sin(self.orientation)\n",
    "            self.orientation = (self.orientation + turn) % (2.0 * np.pi)\n",
    "        else:\n",
    "            # approximate bicycle model for motion\n",
    "            radius = distance2 / turn\n",
    "            cx = self.x - (np.sin(self.orientation) * radius)\n",
    "            cy = self.y + (np.cos(self.orientation) * radius)\n",
    "            self.orientation = (self.orientation + turn) % (2.0 * np.pi)\n",
    "            self.x = cx + (np.sin(self.orientation) * radius)\n",
    "            self.y = cy - (np.cos(self.orientation) * radius)\n",
    "\n",
    "    def __repr__(self):\n",
    "        return '[x=%.5f y=%.5f orient=%.5f]' % (self.x, self.y, self.orientation)"
   ]
  },
  {
   "cell_type": "markdown",
   "metadata": {},
   "source": [
    "### P controll"
   ]
  },
  {
   "cell_type": "code",
   "execution_count": 14,
   "metadata": {},
   "outputs": [],
   "source": [
    "def run(robot, tau, n=100, speed=1.0):\n",
    "    x_trajectory = []\n",
    "    y_trajectory = []\n",
    "    \n",
    "    for _ in range(n):\n",
    "        steering = -tau*robot.y\n",
    "        robot.move(steering, speed)\n",
    "        \n",
    "        x_trajectory.append(robot.x)\n",
    "        y_trajectory.append(robot.y)\n",
    "    \n",
    "    return x_trajectory, y_trajectory"
   ]
  },
  {
   "cell_type": "code",
   "execution_count": 17,
   "metadata": {},
   "outputs": [
    {
     "data": {
      "text/plain": [
       "[<matplotlib.lines.Line2D at 0x118715ac8>]"
      ]
     },
     "execution_count": 17,
     "metadata": {},
     "output_type": "execute_result"
    },
    {
     "data": {
      "image/png": "[encoded data removed]",
      "text/plain": [
       "<Figure size 576x288 with 1 Axes>"
      ]
     },
     "metadata": {},
     "output_type": "display_data"
    }
   ],
   "source": [
    "# run - does a single control run\n",
    "robot = Robot()\n",
    "robot.set(0.0, 1.0, 0.0)\n",
    "\n",
    "x_trajectory, y_trajectory = run(robot, 0.1)\n",
    "n = len(x_trajectory)\n",
    "\n",
    "fig, ax1 = plt.subplots(1, 1, figsize=(8, 4))\n",
    "ax1.plot(x_trajectory, y_trajectory, 'g', label='P controller')\n",
    "ax1.plot(x_trajectory, np.zeros(n), 'r', label='reference')"
   ]
  },
  {
   "cell_type": "markdown",
   "metadata": {},
   "source": [
    "### PD controll"
   ]
  },
  {
   "cell_type": "code",
   "execution_count": 27,
   "metadata": {},
   "outputs": [
    {
     "data": {
      "text/plain": [
       "[<matplotlib.lines.Line2D at 0x118ee8ba8>]"
      ]
     },
     "execution_count": 27,
     "metadata": {},
     "output_type": "execute_result"
    },
    {
     "data": {
      "image/png": "[encoded data removed]",
      "text/plain": [
       "<Figure size 576x288 with 1 Axes>"
      ]
     },
     "metadata": {},
     "output_type": "display_data"
    }
   ],
   "source": [
    "# run - does a single control run\n",
    "robot = Robot()\n",
    "robot.set(0, 1, 0)\n",
    "\n",
    "def run(robot, tau_p, tau_d, n=100, speed=1.0):\n",
    "    x_trajectory = []\n",
    "    y_trajectory = []\n",
    "    \n",
    "    prev_cte = robot.y\n",
    "    for _ in range(n):\n",
    "        dev = robot.y - prev_cte\n",
    "        prev_cte = robot.y\n",
    "        steer = -tau_p * robot.y - tau_d * dev\n",
    "        robot.move(steer, speed)\n",
    "        x_trajectory.append(robot.x)\n",
    "        y_trajectory.append(robot.y)\n",
    "        \n",
    "    return x_trajectory, y_trajectory\n",
    "\n",
    "x_trajectory, y_trajectory = run(robot, 0.2, 3.0)\n",
    "n = len(x_trajectory)\n",
    "\n",
    "fig, ax1 = plt.subplots(1, 1, figsize=(8, 4))\n",
    "ax1.plot(x_trajectory, y_trajectory, 'g', label='P controller')\n",
    "ax1.plot(x_trajectory, np.zeros(n), 'r', label='reference')"
   ]
  },
  {
   "cell_type": "code",
   "execution_count": null,
   "metadata": {},
   "outputs": [],
   "source": []
  }
 ],
 "metadata": {
  "kernelspec": {
   "display_name": "Python 3",
   "language": "python",
   "name": "python3"
  },
  "language_info": {
   "codemirror_mode": {
    "name": "ipython",
    "version": 3
   },
   "file_extension": ".py",
   "mimetype": "text/x-python",
   "name": "python",
   "nbconvert_exporter": "python",
   "pygments_lexer": "ipython3",
   "version": "3.6.5"
  }
 },
 "nbformat": 4,
 "nbformat_minor": 2
}
