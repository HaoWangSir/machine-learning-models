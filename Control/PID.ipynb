{
 "cells": [
  {
   "cell_type": "markdown",
   "metadata": {},
   "source": [
    "PID\n",
    "---\n",
    "A proportional–integral–derivative controller (PID controller or three-term controller) "
   ]
  },
  {
   "cell_type": "code",
   "execution_count": 9,
   "metadata": {
    "code_folding": [
     4
    ]
   },
   "outputs": [],
   "source": [
    "%matplotlib inline\n",
    "import random\n",
    "import numpy as np\n",
    "import matplotlib.pyplot as plt"
   ]
  },
  {
   "cell_type": "code",
   "execution_count": 2,
   "metadata": {},
   "outputs": [],
   "source": [
    "class Robot(object):\n",
    "    def __init__(self, length=20.0):\n",
    "        \"\"\"\n",
    "        Creates robot and initializes location/orientation to 0, 0, 0.\n",
    "        \"\"\"\n",
    "        self.x = 0.0\n",
    "        self.y = 0.0\n",
    "        self.orientation = 0.0\n",
    "        self.length = length\n",
    "        self.steering_noise = 0.0\n",
    "        self.distance_noise = 0.0\n",
    "        self.steering_drift = 0.0\n",
    "\n",
    "    def set(self, x, y, orientation):\n",
    "        \"\"\"\n",
    "        Sets a robot coordinate.\n",
    "        \"\"\"\n",
    "        self.x = x\n",
    "        self.y = y\n",
    "        self.orientation = orientation % (2.0 * np.pi)\n",
    "\n",
    "    def set_noise(self, steering_noise, distance_noise):\n",
    "        \"\"\"\n",
    "        Sets the noise parameters.\n",
    "        \"\"\"\n",
    "        # makes it possible to change the noise parameters\n",
    "        # this is often useful in particle filters\n",
    "        self.steering_noise = steering_noise\n",
    "        self.distance_noise = distance_noise\n",
    "\n",
    "    def set_steering_drift(self, drift):\n",
    "        \"\"\"\n",
    "        Sets the systematical steering drift parameter\n",
    "        \"\"\"\n",
    "        self.steering_drift = drift\n",
    "\n",
    "    def move(self, steering, distance, tolerance=0.001, max_steering_angle=np.pi / 4.0):\n",
    "        \"\"\"\n",
    "        steering = front wheel steering angle, limited by max_steering_angle(max 90 degree)\n",
    "        distance = total distance driven, most be non-negative\n",
    "        \"\"\"\n",
    "        if steering > max_steering_angle:\n",
    "            steering = max_steering_angle\n",
    "        if steering < -max_steering_angle:\n",
    "            steering = -max_steering_angle\n",
    "        if distance < 0.0:\n",
    "            distance = 0.0\n",
    "\n",
    "        # apply noise\n",
    "        steering2 = random.gauss(steering, self.steering_noise)\n",
    "        distance2 = random.gauss(distance, self.distance_noise)\n",
    "\n",
    "        # apply steering drift\n",
    "        steering2 += self.steering_drift\n",
    "\n",
    "        # Execute motion\n",
    "        turn = np.tan(steering2) * distance2 / self.length\n",
    "\n",
    "        if abs(turn) < tolerance:\n",
    "            # approximate by straight line motion\n",
    "            self.x += distance2 * np.cos(self.orientation)\n",
    "            self.y += distance2 * np.sin(self.orientation)\n",
    "            self.orientation = (self.orientation + turn) % (2.0 * np.pi)\n",
    "        else:\n",
    "            # approximate bicycle model for motion\n",
    "            radius = distance2 / turn\n",
    "            cx = self.x - (np.sin(self.orientation) * radius)\n",
    "            cy = self.y + (np.cos(self.orientation) * radius)\n",
    "            self.orientation = (self.orientation + turn) % (2.0 * np.pi)\n",
    "            self.x = cx + (np.sin(self.orientation) * radius)\n",
    "            self.y = cy - (np.cos(self.orientation) * radius)\n",
    "\n",
    "    def __repr__(self):\n",
    "        return '[x=%.5f y=%.5f orient=%.5f]' % (self.x, self.y, self.orientation)"
   ]
  },
  {
   "cell_type": "markdown",
   "metadata": {},
   "source": [
    "### P controll"
   ]
  },
  {
   "cell_type": "code",
   "execution_count": 48,
   "metadata": {},
   "outputs": [
    {
     "data": {
      "text/plain": [
       "<matplotlib.legend.Legend at 0x119c35630>"
      ]
     },
     "execution_count": 48,
     "metadata": {},
     "output_type": "execute_result"
    },
    {
     "data": {
      "image/png": "[encoded data removed]",
      "text/plain": [
       "<Figure size 576x288 with 1 Axes>"
      ]
     },
     "metadata": {},
     "output_type": "display_data"
    }
   ],
   "source": [
    "def run(robot, tau, n=100, speed=1.0):\n",
    "    x_trajectory = []\n",
    "    y_trajectory = []\n",
    "    \n",
    "    for _ in range(n):\n",
    "        steering = -tau*robot.y\n",
    "        robot.move(steering, speed)\n",
    "        \n",
    "        x_trajectory.append(robot.x)\n",
    "        y_trajectory.append(robot.y)\n",
    "    \n",
    "    return x_trajectory, y_trajectory\n",
    "\n",
    "# run - does a single control run\n",
    "robot = Robot()\n",
    "robot.set(0.0, 1.0, 0.0)\n",
    "\n",
    "x_trajectory, y_trajectory = run(robot, 0.1)\n",
    "n = len(x_trajectory)\n",
    "\n",
    "fig, ax1 = plt.subplots(1, 1, figsize=(8, 4))\n",
    "ax1.plot(x_trajectory, y_trajectory, 'g', label='P controller')\n",
    "ax1.plot(x_trajectory, np.zeros(n), 'r', label='reference')\n",
    "plt.legend()"
   ]
  },
  {
   "cell_type": "markdown",
   "metadata": {},
   "source": [
    "### PD controll"
   ]
  },
  {
   "cell_type": "code",
   "execution_count": 46,
   "metadata": {},
   "outputs": [
    {
     "data": {
      "text/plain": [
       "<matplotlib.legend.Legend at 0x119bceb00>"
      ]
     },
     "execution_count": 46,
     "metadata": {},
     "output_type": "execute_result"
    },
    {
     "data": {
      "image/png": "[encoded data removed]",
      "text/plain": [
       "<Figure size 576x288 with 1 Axes>"
      ]
     },
     "metadata": {},
     "output_type": "display_data"
    }
   ],
   "source": [
    "# run - does a single control run\n",
    "robot = Robot()\n",
    "robot.set(0, 1, 0)\n",
    "# robot.set_steering_drift(10/180.*np.pi)\n",
    "\n",
    "def run(robot, tau_p, tau_d, n=100, speed=1.0):\n",
    "    x_trajectory = []\n",
    "    y_trajectory = []\n",
    "    \n",
    "    prev_cte = robot.y\n",
    "    for _ in range(n):\n",
    "        dev = robot.y - prev_cte\n",
    "        prev_cte = robot.y\n",
    "        steer = -tau_p * robot.y - tau_d * dev\n",
    "        robot.move(steer, speed)\n",
    "        x_trajectory.append(robot.x)\n",
    "        y_trajectory.append(robot.y)\n",
    "        \n",
    "    return x_trajectory, y_trajectory\n",
    "\n",
    "x_trajectory, y_trajectory = run(robot, 0.2, 3)\n",
    "n = len(x_trajectory)\n",
    "\n",
    "fig, ax1 = plt.subplots(1, 1, figsize=(8, 4))\n",
    "ax1.plot(x_trajectory, y_trajectory, 'g', label='PD controller')\n",
    "ax1.plot(x_trajectory, np.zeros(n), 'r', label='reference')\n",
    "plt.legend()"
   ]
  },
  {
   "cell_type": "markdown",
   "metadata": {},
   "source": [
    "### PID"
   ]
  },
  {
   "cell_type": "code",
   "execution_count": 45,
   "metadata": {},
   "outputs": [
    {
     "data": {
      "text/plain": [
       "<matplotlib.legend.Legend at 0x119ae8e10>"
      ]
     },
     "execution_count": 45,
     "metadata": {},
     "output_type": "execute_result"
    },
    {
     "data": {
      "image/png": "[encoded data removed]",
      "text/plain": [
       "<Figure size 576x288 with 1 Axes>"
      ]
     },
     "metadata": {},
     "output_type": "display_data"
    }
   ],
   "source": [
    "robot = Robot()\n",
    "robot.set(0, 1, 0)\n",
    "robot.set_steering_drift(10/180.*np.pi)  # add drift bias\n",
    "\n",
    "def run(robot, tau_p, tau_d, tau_i, n=100, speed=1.0):\n",
    "    x_trajectory = []\n",
    "    y_trajectory = []\n",
    "    \n",
    "    prev_cte = robot.y\n",
    "    sum_cte = 0\n",
    "    for _ in range(n):\n",
    "        sum_cte += robot.y\n",
    "        dev = robot.y - prev_cte\n",
    "        prev_cte = robot.y\n",
    "        steer = -tau_p * robot.y - tau_d * dev - tau_i*sum_cte\n",
    "        robot.move(steer, speed)\n",
    "        x_trajectory.append(robot.x)\n",
    "        y_trajectory.append(robot.y)\n",
    "        \n",
    "    return x_trajectory, y_trajectory\n",
    "\n",
    "\n",
    "x_trajectory, y_trajectory = run(robot, 0.2, 3.0, 0.004)\n",
    "n = len(x_trajectory)\n",
    "\n",
    "fig, ax1 = plt.subplots(1, 1, figsize=(8, 4))\n",
    "ax1.plot(x_trajectory, y_trajectory, 'g', label='PID controller')\n",
    "ax1.plot(x_trajectory, np.zeros(n), 'r', label='reference')\n",
    "plt.legend()"
   ]
  },
  {
   "cell_type": "markdown",
   "metadata": {},
   "source": [
    "### Parameter Tuning\n",
    "Twiddle"
   ]
  },
  {
   "cell_type": "code",
   "execution_count": 42,
   "metadata": {},
   "outputs": [
    {
     "name": "stdout",
     "output_type": "stream",
     "text": [
      "best err 0.0016645945527960432 | params [4.276900000000001, 4.641000000000002, 0.0] | dparams [1.3176900000000005, 1.3176900000000007, 0.5904900000000002]\n",
      "best err 1.1769110322775785e-06 | params [7.059993049000001, 12.685629219000006, 0.43046721000000016] | dparams [1.7363069361000012, 2.122152921900002, 0.4261625379000002]\n",
      "best err 1.0756081254381531e-12 | params [3.41374848319, 10.393491848055813, 0.4304672100000001] | dparams [1.5315789852644504, 2.287914286629612, 0.25164471700457114]\n",
      "best err 8.128577728545796e-13 | params [3.413748483190001, 12.246702420225802, 0.4304672100000001] | dparams [0.9043820750088055, 1.6512106198034573, 0.14859368894402925]\n",
      "best err 2.6262743718878566e-13 | params [3.413748483190001, 12.246702420225798, 0.5790608989440293] | dparams [0.5340285714719497, 0.9750233588877438, 0.10724155124779536]\n",
      "best err 1.1111315964316227e-15 | params [2.933122768865246, 11.272654084696942, 0.49316041639454533] | dparams [0.3854137603170209, 1.051182433450466, 0.11561818881576069]\n",
      "best err 6.486248421840799e-16 | params [2.9331227688652466, 10.326589894591523, 0.4931604163945454] | dparams [0.22758297132959768, 0.7586488740455359, 0.06827138431381854]\n",
      "best err 6.486248421840799e-16 | params [2.933122768865246, 10.326589894591526, 0.49316041639454533] | dparams [0.13438546874041415, 0.4479745736351486, 0.04031356972346672]\n",
      "best err 6.486248421840799e-16 | params [2.9331227688652453, 10.326589894591532, 0.4931604163945452] | dparams [0.07935327543652716, 0.2645245059858189, 0.023804759786009867]\n",
      "best err 6.486248421840799e-16 | params [2.9331227688652457, 10.326589894591526, 0.4931604163945451] | dparams [0.046857315612514924, 0.1561990755395662, 0.014056472606040968]\n",
      "Final twiddle error = 6.486248421840799e-16\n"
     ]
    }
   ],
   "source": [
    "def make_robot():\n",
    "    \"\"\"\n",
    "    Resets the robot back to the initial position and drift.\n",
    "    You'll want to call this after you call `run`.\n",
    "    \"\"\"\n",
    "    robot = Robot()\n",
    "    robot.set(0.0, 1.0, 0.0)\n",
    "    robot.set_steering_drift(10.0 / 180.0 * np.pi)\n",
    "    return robot\n",
    "\n",
    "\n",
    "def run(robot, params, n=100, speed=1.0):\n",
    "    x_trajectory = []\n",
    "    y_trajectory = []\n",
    "    err = 0\n",
    "    prev_cte = robot.y\n",
    "    int_cte = 0\n",
    "    for i in range(2 * n):\n",
    "        cte = robot.y\n",
    "        diff_cte = cte - prev_cte\n",
    "        int_cte += cte\n",
    "        prev_cte = cte\n",
    "        steer = -params[0] * cte - params[1] * diff_cte - params[2] * int_cte\n",
    "        robot.move(steer, speed)\n",
    "        x_trajectory.append(robot.x)\n",
    "        y_trajectory.append(robot.y)\n",
    "        if i >= n:\n",
    "            err += cte ** 2\n",
    "    return x_trajectory, y_trajectory, err / n\n",
    "\n",
    "\n",
    "# Make this tolerance bigger if you are timing out!\n",
    "def twiddle(tol=0.2): \n",
    "    n = 0\n",
    "    p = [0.0, 0.0, 0.0]\n",
    "    dp = [1.0, 1.0, 1.0]\n",
    "    \n",
    "    robot = make_robot()\n",
    "    x_trajectory, y_trajectory, best_err = run(robot, p)  # initial err\n",
    "    \n",
    "    while sum(dp) >= tol:\n",
    "        for i in range(len(p)):\n",
    "            robot = make_robot()\n",
    "            p[i] += dp[i]\n",
    "            _, _, err = run(robot, p)\n",
    "            if err < best_err:\n",
    "                best_err = err\n",
    "                dp[i] *= 1.1\n",
    "            else:\n",
    "                p[i] -= 2*dp[i]  # reverse the search direction\n",
    "                robot = make_robot()\n",
    "                _, _, err = run(robot, p)\n",
    "                if err < best_err:\n",
    "                    best_err = err\n",
    "                    dp[i] *= 1.1\n",
    "                else:\n",
    "                    p[i] += dp[i]\n",
    "                    dp[i] *= 0.9  # narrow the search range\n",
    "            n += 1\n",
    "        if n % 5 == 0:\n",
    "            print(\"best err {} | params {} | dparams {}\".format(best_err, p, dp))\n",
    "    \n",
    "    return p, best_err\n",
    "\n",
    "\n",
    "params, err = twiddle()\n",
    "print(\"Final twiddle error = {}\".format(err))"
   ]
  },
  {
   "cell_type": "code",
   "execution_count": 44,
   "metadata": {},
   "outputs": [
    {
     "data": {
      "text/plain": [
       "<matplotlib.legend.Legend at 0x1199ebac8>"
      ]
     },
     "execution_count": 44,
     "metadata": {},
     "output_type": "execute_result"
    },
    {
     "data": {
      "image/png": "[encoded data removed]",
      "text/plain": [
       "<Figure size 576x288 with 1 Axes>"
      ]
     },
     "metadata": {},
     "output_type": "display_data"
    }
   ],
   "source": [
    "robot = make_robot()\n",
    "x_trajectory, y_trajectory, err = run(robot, params)\n",
    "n = len(x_trajectory)\n",
    "\n",
    "fig, ax1 = plt.subplots(1, 1, figsize=(8, 4))\n",
    "ax1.plot(x_trajectory, y_trajectory, 'g', label='Twiddle PID controller')\n",
    "ax1.plot(x_trajectory, np.zeros(n), 'r', label='reference')\n",
    "plt.legend()"
   ]
  },
  {
   "cell_type": "code",
   "execution_count": null,
   "metadata": {},
   "outputs": [],
   "source": []
  }
 ],
 "metadata": {
  "kernelspec": {
   "display_name": "Python 3",
   "language": "python",
   "name": "python3"
  },
  "language_info": {
   "codemirror_mode": {
    "name": "ipython",
    "version": 3
   },
   "file_extension": ".py",
   "mimetype": "text/x-python",
   "name": "python",
   "nbconvert_exporter": "python",
   "pygments_lexer": "ipython3",
   "version": "3.6.5"
  }
 },
 "nbformat": 4,
 "nbformat_minor": 2
}
