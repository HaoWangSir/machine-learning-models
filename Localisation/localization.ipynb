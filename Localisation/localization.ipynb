{
 "cells": [
  {
   "cell_type": "markdown",
   "metadata": {},
   "source": [
    "Grid World Localization\n",
    "---\n",
    "Consider a 2 dimensional world, the robot can move only left, right, up, or down. It cannot move diagonally. Also, for this assignment, the robot will never overshoot its destination square; it will either make the movement or it will remain stationary.\n",
    "\n",
    "**Motions:**\n",
    "- [0, 0]: no movement\n",
    "- [0, 1]: move right\n",
    "- [1, 0]: move down\n",
    "- [-1, 0]: move up\n",
    "..."
   ]
  },
  {
   "cell_type": "code",
   "execution_count": 1,
   "metadata": {},
   "outputs": [],
   "source": [
    "import numpy as np"
   ]
  },
  {
   "cell_type": "code",
   "execution_count": 2,
   "metadata": {},
   "outputs": [],
   "source": [
    "def init_p():\n",
    "    nrow, ncol = colors.shape\n",
    "    p = np.zeros([nrow, ncol])\n",
    "    for i in range(nrow):\n",
    "        for j in range(ncol):\n",
    "            p[i, j] = 1/(nrow*ncol)\n",
    "    return p"
   ]
  },
  {
   "cell_type": "code",
   "execution_count": 3,
   "metadata": {},
   "outputs": [],
   "source": [
    "# sense\n",
    "\n",
    "def sense(p, Z):\n",
    "    nrow, ncol = colors.shape\n",
    "    sense_prob =  np.zeros([nrow, ncol])\n",
    "    for i in range(nrow):\n",
    "        for j in range(ncol):\n",
    "            sense_prob[i, j] = sensor_right if colors[i, j] == Z else 1 - sensor_right\n",
    "    q = p * sense_prob\n",
    "    # normalization\n",
    "    q = q/np.sum(q)\n",
    "    return q"
   ]
  },
  {
   "cell_type": "code",
   "execution_count": 4,
   "metadata": {},
   "outputs": [],
   "source": [
    "# move\n",
    "\n",
    "def move(p, U):\n",
    "    nrow, ncol = p.shape\n",
    "    q = np.zeros([nrow, ncol])\n",
    "    for i in range(nrow):\n",
    "        for j in range(ncol):\n",
    "            q[i, j] = p_move*p[i-U[0], j-U[1]] + (1-p_move)*p[i, j]\n",
    "    return q"
   ]
  },
  {
   "cell_type": "code",
   "execution_count": 5,
   "metadata": {},
   "outputs": [],
   "source": [
    "# combine\n",
    "\n",
    "def localize(colors, measurements, motions, sensor_right, p_move):\n",
    "    assert len(measurements) == len(motions)\n",
    "    \n",
    "    p = init_p()\n",
    "    for i in range(len(measurements)):\n",
    "        measure = measurements[i]\n",
    "        motion = motions[i]\n",
    "        \n",
    "        p = sense(p, measure)\n",
    "        p = move(p, motion)\n",
    "    return p"
   ]
  },
  {
   "cell_type": "code",
   "execution_count": 6,
   "metadata": {},
   "outputs": [
    {
     "name": "stdout",
     "output_type": "stream",
     "text": [
      "[[0. 0. 0.]\n",
      " [0. 1. 0.]\n",
      " [0. 0. 0.]]\n"
     ]
    }
   ],
   "source": [
    "# test\n",
    "\n",
    "colors = np.array(\n",
    "         [['G', 'G', 'G'],\n",
    "          ['G', 'R', 'G'],\n",
    "          ['G', 'G', 'G']])\n",
    "\n",
    "measurements = ['R']\n",
    "motions = [[0, 0]]\n",
    "sensor_right = 1.0\n",
    "p_move = 1.0  # probability motion executed correctly\n",
    "\n",
    "p = localize(colors, measurements, motions, sensor_right, p_move)\n",
    "\n",
    "print(p)"
   ]
  },
  {
   "cell_type": "code",
   "execution_count": 7,
   "metadata": {},
   "outputs": [
    {
     "name": "stdout",
     "output_type": "stream",
     "text": [
      "[[0.06666667 0.06666667 0.06666667]\n",
      " [0.06666667 0.26666667 0.26666667]\n",
      " [0.06666667 0.06666667 0.06666667]]\n"
     ]
    }
   ],
   "source": [
    "colors = np.array(\n",
    "         [['G', 'G', 'G'],\n",
    "          ['G', 'R', 'R'],\n",
    "          ['G', 'G', 'G']])\n",
    "\n",
    "measurements = ['R']\n",
    "motions = [[0, 0]]\n",
    "sensor_right = 0.8\n",
    "p_move = 1.0  # probability motion executed correctly\n",
    "\n",
    "p = localize(colors, measurements, motions, sensor_right, p_move)\n",
    "\n",
    "print(p)"
   ]
  },
  {
   "cell_type": "code",
   "execution_count": 8,
   "metadata": {},
   "outputs": [
    {
     "name": "stdout",
     "output_type": "stream",
     "text": [
      "[[0.02564103 0.02564103 0.02564103]\n",
      " [0.21794872 0.21794872 0.41025641]\n",
      " [0.02564103 0.02564103 0.02564103]]\n"
     ]
    }
   ],
   "source": [
    "colors = np.array(\n",
    "         [['G', 'G', 'G'],\n",
    "          ['G', 'R', 'R'],\n",
    "          ['G', 'G', 'G']])\n",
    "\n",
    "measurements = ['R', 'R']\n",
    "motions = [[0, 0], [0, 1]]\n",
    "sensor_right = 0.8\n",
    "p_move = 0.5\n",
    "\n",
    "p = localize(colors, measurements, motions, sensor_right, p_move)\n",
    "\n",
    "print(p)"
   ]
  },
  {
   "cell_type": "code",
   "execution_count": null,
   "metadata": {},
   "outputs": [],
   "source": []
  }
 ],
 "metadata": {
  "kernelspec": {
   "display_name": "Python 3",
   "language": "python",
   "name": "python3"
  },
  "language_info": {
   "codemirror_mode": {
    "name": "ipython",
    "version": 3
   },
   "file_extension": ".py",
   "mimetype": "text/x-python",
   "name": "python",
   "nbconvert_exporter": "python",
   "pygments_lexer": "ipython3",
   "version": "3.6.5"
  }
 },
 "nbformat": 4,
 "nbformat_minor": 2
}
