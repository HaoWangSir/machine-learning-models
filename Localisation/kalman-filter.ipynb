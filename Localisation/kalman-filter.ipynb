{
 "cells": [
  {
   "cell_type": "markdown",
   "metadata": {},
   "source": [
    "Guassian\n",
    "---\n",
    "Uni-model\n",
    "\n",
    "$$ f(x) = \\frac{1}{\\sqrt{2\\pi\\sigma^2}}\\exp[-\\frac{(x-\\mu)^2}{2\\sigma^2}] $$"
   ]
  },
  {
   "cell_type": "code",
   "execution_count": 12,
   "metadata": {},
   "outputs": [],
   "source": [
    "import numpy as np"
   ]
  },
  {
   "cell_type": "code",
   "execution_count": 10,
   "metadata": {},
   "outputs": [],
   "source": [
    "def f(mu, sigma2, x):\n",
    "    # sigma2: sigma_square\n",
    "    return (1/np.sqrt(2*np.pi*sigma2))*np.exp(-(x-mu)**2/(2*sigma2))"
   ]
  },
  {
   "cell_type": "code",
   "execution_count": 11,
   "metadata": {},
   "outputs": [
    {
     "data": {
      "text/plain": [
       "0.12098536225957168"
      ]
     },
     "execution_count": 11,
     "metadata": {},
     "output_type": "execute_result"
    }
   ],
   "source": [
    "f(10, 4, 8)"
   ]
  },
  {
   "cell_type": "markdown",
   "metadata": {},
   "source": [
    "Bayes Rule\n",
    "---\n",
    "Measurements is gaining information\n",
    "<img src=bayes.png width=400>\n",
    "\n",
    "### Multiplication of Guassian(Measurement Update Procedure)\n",
    "---\n",
    "$$ N_1(\\mu, \\sigma^2)$$\n",
    "$$ N_2(\\gamma, r^2) $$\n",
    "\n",
    "$$ \\mu_{new} = \\frac{1}{\\sigma^2 + r^2}(r^2\\mu + \\sigma^2\\gamma)$$\n",
    "\n",
    "$$ \\sigma_{new} = 1/[{\\frac{1}{\\sigma^2} + \\frac{1}{\\gamma^2}}] $$\n",
    "\n",
    "Motion Adds Uncertainty\n",
    "---\n",
    "With initial distribution $N(\\mu, \\sigma^2)$, and move $U$ with uncertainty $\\gamma^2$, the distribution after movement is $N(\\mu+U, \\sigma^2+\\gamma^2)$\n"
   ]
  },
  {
   "cell_type": "code",
   "execution_count": 21,
   "metadata": {},
   "outputs": [],
   "source": [
    "# update mean and variance given 2 gaussian distribution\n",
    "def update(mean1, var1, mean2, var2):\n",
    "    new_mean = (var1*mean2 + var2*mean1)/(var1 + var2)\n",
    "    new_var = 1./(1./var1 + 1./var2)\n",
    "    return [new_mean, new_var]\n",
    "\n",
    "# motion\n",
    "def predict(mean1, var1, mean2, var2):\n",
    "    new_mean = mean1 + mean2\n",
    "    new_var = var1 + var2\n",
    "    return [new_mean, new_var]"
   ]
  },
  {
   "cell_type": "code",
   "execution_count": 23,
   "metadata": {},
   "outputs": [
    {
     "name": "stdout",
     "output_type": "stream",
     "text": [
      "[12.4, 1.6]\n",
      "[23.0, 10.0]\n"
     ]
    }
   ],
   "source": [
    "print(update(10., 8., 13., 2.))\n",
    "print(predict(10., 8., 13., 2.))"
   ]
  },
  {
   "cell_type": "code",
   "execution_count": 45,
   "metadata": {},
   "outputs": [],
   "source": [
    "def kalman_filter_1d(mu, sig, measurements, motion, measurement_sig, motion_sig):\n",
    "    n = len(measurements)\n",
    "    for i in range(n):\n",
    "        measure = measurements[i]\n",
    "        move = motion[i]\n",
    "        \n",
    "        mu, sig = update(mu, sig, measure, measurement_sig)\n",
    "        print(\"estimate after measurement [{}, {}]\".format(mu, sig))\n",
    "        mu, sig = predict(mu, sig, move, motion_sig)\n",
    "        print(\"estimate after movement [{}, {}]\".format(mu, sig))\n",
    "    return [mu, sig]"
   ]
  },
  {
   "cell_type": "code",
   "execution_count": 46,
   "metadata": {},
   "outputs": [
    {
     "name": "stdout",
     "output_type": "stream",
     "text": [
      "estimate after measurement [4.998000799680128, 3.9984006397441023]\n",
      "estimate after movement [5.998000799680128, 5.998400639744102]\n",
      "estimate after measurement [5.999200191953932, 2.399744061425258]\n",
      "estimate after movement [6.999200191953932, 4.399744061425258]\n",
      "estimate after measurement [6.999619127420922, 2.0951800575117594]\n",
      "estimate after movement [8.999619127420921, 4.09518005751176]\n",
      "estimate after measurement [8.999811802788143, 2.0235152416216957]\n",
      "estimate after movement [9.999811802788143, 4.023515241621696]\n",
      "estimate after measurement [9.999906177177365, 2.0058615808441944]\n",
      "estimate after movement [10.999906177177365, 4.005861580844194]\n"
     ]
    },
    {
     "data": {
      "text/plain": [
       "[10.999906177177365, 4.005861580844194]"
      ]
     },
     "execution_count": 46,
     "metadata": {},
     "output_type": "execute_result"
    }
   ],
   "source": [
    "measurements = [5., 6., 7., 9., 10.]\n",
    "motion = [1., 1., 2., 1., 1.]\n",
    "measurement_sig = 4.\n",
    "motion_sig = 2.\n",
    "mu = 0.\n",
    "sig = 10000.\n",
    "\n",
    "kalman_filter_1d(mu, sig, measurements, motion, measurement_sig, motion_sig)"
   ]
  },
  {
   "cell_type": "code",
   "execution_count": null,
   "metadata": {},
   "outputs": [],
   "source": []
  }
 ],
 "metadata": {
  "kernelspec": {
   "display_name": "Python 3",
   "language": "python",
   "name": "python3"
  },
  "language_info": {
   "codemirror_mode": {
    "name": "ipython",
    "version": 3
   },
   "file_extension": ".py",
   "mimetype": "text/x-python",
   "name": "python",
   "nbconvert_exporter": "python",
   "pygments_lexer": "ipython3",
   "version": "3.6.5"
  }
 },
 "nbformat": 4,
 "nbformat_minor": 2
}
