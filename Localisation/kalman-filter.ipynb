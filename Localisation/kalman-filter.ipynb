{
 "cells": [
  {
   "cell_type": "markdown",
   "metadata": {},
   "source": [
    "Guassian\n",
    "---\n",
    "Uni-model\n",
    "\n",
    "$$ f(x) = \\frac{1}{\\sqrt{2\\pi\\sigma^2}}\\exp[-\\frac{(x-\\mu)^2}{2\\sigma^2}] $$"
   ]
  },
  {
   "cell_type": "code",
   "execution_count": 1,
   "metadata": {},
   "outputs": [],
   "source": [
    "import numpy as np"
   ]
  },
  {
   "cell_type": "markdown",
   "metadata": {},
   "source": [
    "Bayes Rule\n",
    "---\n",
    "Measurements is gaining information\n",
    "<img src=\"pics/bayes.png\" width=400>\n",
    "\n",
    "### Multiplication of Guassian(Measurement Update Procedure)\n",
    "---\n",
    "$$ N_1(\\mu, \\sigma^2)$$\n",
    "$$ N_2(\\gamma, r^2) $$\n",
    "\n",
    "$$ \\mu_{new} = \\frac{1}{\\sigma^2 + r^2}(r^2\\mu + \\sigma^2\\gamma)$$\n",
    "\n",
    "$$ \\sigma_{new} = 1/[{\\frac{1}{\\sigma^2} + \\frac{1}{\\gamma^2}}] $$\n",
    "\n",
    "Motion Adds Uncertainty\n",
    "---\n",
    "With initial distribution $N(\\mu, \\sigma^2)$, and move $U$ with uncertainty $\\gamma^2$, the distribution after movement is $N(\\mu+U, \\sigma^2+\\gamma^2)$\n"
   ]
  },
  {
   "cell_type": "code",
   "execution_count": 21,
   "metadata": {},
   "outputs": [],
   "source": [
    "# update mean and variance given 2 gaussian distribution\n",
    "def update(mean1, var1, mean2, var2):\n",
    "    new_mean = (var1*mean2 + var2*mean1)/(var1 + var2)\n",
    "    new_var = 1./(1./var1 + 1./var2)\n",
    "    return [new_mean, new_var]\n",
    "\n",
    "# motion\n",
    "def predict(mean1, var1, mean2, var2):\n",
    "    new_mean = mean1 + mean2\n",
    "    new_var = var1 + var2\n",
    "    return [new_mean, new_var]"
   ]
  },
  {
   "cell_type": "code",
   "execution_count": 23,
   "metadata": {},
   "outputs": [
    {
     "name": "stdout",
     "output_type": "stream",
     "text": [
      "[12.4, 1.6]\n",
      "[23.0, 10.0]\n"
     ]
    }
   ],
   "source": [
    "print(update(10., 8., 13., 2.))\n",
    "print(predict(10., 8., 13., 2.))"
   ]
  },
  {
   "cell_type": "code",
   "execution_count": 45,
   "metadata": {},
   "outputs": [],
   "source": [
    "def kalman_filter_1d(mu, sig, measurements, motion, measurement_sig, motion_sig):\n",
    "    n = len(measurements)\n",
    "    for i in range(n):\n",
    "        measure = measurements[i]\n",
    "        move = motion[i]\n",
    "        \n",
    "        mu, sig = update(mu, sig, measure, measurement_sig)\n",
    "        print(\"estimate after measurement [{}, {}]\".format(mu, sig))\n",
    "        mu, sig = predict(mu, sig, move, motion_sig)\n",
    "        print(\"estimate after movement [{}, {}]\".format(mu, sig))\n",
    "    return [mu, sig]"
   ]
  },
  {
   "cell_type": "code",
   "execution_count": 46,
   "metadata": {},
   "outputs": [
    {
     "name": "stdout",
     "output_type": "stream",
     "text": [
      "estimate after measurement [4.998000799680128, 3.9984006397441023]\n",
      "estimate after movement [5.998000799680128, 5.998400639744102]\n",
      "estimate after measurement [5.999200191953932, 2.399744061425258]\n",
      "estimate after movement [6.999200191953932, 4.399744061425258]\n",
      "estimate after measurement [6.999619127420922, 2.0951800575117594]\n",
      "estimate after movement [8.999619127420921, 4.09518005751176]\n",
      "estimate after measurement [8.999811802788143, 2.0235152416216957]\n",
      "estimate after movement [9.999811802788143, 4.023515241621696]\n",
      "estimate after measurement [9.999906177177365, 2.0058615808441944]\n",
      "estimate after movement [10.999906177177365, 4.005861580844194]\n"
     ]
    },
    {
     "data": {
      "text/plain": [
       "[10.999906177177365, 4.005861580844194]"
      ]
     },
     "execution_count": 46,
     "metadata": {},
     "output_type": "execute_result"
    }
   ],
   "source": [
    "measurements = [5., 6., 7., 9., 10.]\n",
    "motion = [1., 1., 2., 1., 1.]\n",
    "measurement_sig = 4.\n",
    "motion_sig = 2.\n",
    "mu = 0.\n",
    "sig = 10000.\n",
    "\n",
    "kalman_filter_1d(mu, sig, measurements, motion, measurement_sig, motion_sig)"
   ]
  },
  {
   "cell_type": "markdown",
   "metadata": {},
   "source": [
    "## Multi-Dimensional Kalman Filter\n",
    "---\n",
    "- **F**: state transition matrix\n",
    "- **P**: covariance matrix\n",
    "- $\\mu$: external motion vector\n",
    "\n",
    "### Prediction\n",
    "---\n",
    "$$ x' = Fx + \\mu $$\n",
    "$$ P' = FPF^{T} $$\n",
    "\n",
    "In other words, the new best estimate is a prediction made from previous best estimate, plus a correction for known external influences.\n",
    "\n",
    "And the new uncertainty is predicted from the old uncertainty, with some additional uncertainty from the environment.\n",
    "\n",
    "### Measurement Update\n",
    "---\n",
    "\n",
    "- **Z**: measurement\n",
    "- **H**: measurement transition function\n",
    "- **R**: measurement noise\n",
    "\n",
    "We have two distributions: The predicted measurement with $(\\mu_0, \\sigma_0) = (Hx, HPH^{T})$, and the observed measurement with $(\\mu_1, \\sigma_1) = (Z, R)$\n",
    "\n",
    "Combining together, we get posterior distribution:\n",
    "\n",
    "$$ y = Z - Hx $$\n",
    "$$ S = HPH^{T} + R $$\n",
    "$$ K = PH^{T}S^{-1} $$\n",
    "\n",
    "\n",
    "$$ x' = x + Ky $$\n",
    "$$ P' = (I - KH)P $$\n",
    "\n",
    "the sensors operate on a state and produce a set of readings."
   ]
  },
  {
   "cell_type": "code",
   "execution_count": 26,
   "metadata": {},
   "outputs": [],
   "source": [
    "measurements = [1, 2, 3]\n",
    "\n",
    "x = np.array([[0.], [0.]])  # initial state (location and velocity)\n",
    "P = np.array([[1000., 0.], [0., 1000.]])  # initial uncertainty, covariance\n",
    "u = np.array([[0.], [0.]])  # external motion\n",
    "F = np.array([[1., 1.], [0, 1.]])  # next state function, state transition\n",
    "H = np.array([[1., 0.]])  # measurement function, measurement transition\n",
    "R = np.array([[1.]])  # measurement uncertainty\n",
    "I = np.array([[1., 0.], [0., 1.]])  # identity matrix"
   ]
  },
  {
   "cell_type": "code",
   "execution_count": 49,
   "metadata": {},
   "outputs": [],
   "source": [
    "# input: initial state x and covariance P\n",
    "def kalman_filter(x, P):\n",
    "    for i in range(len(measurements)):\n",
    "        # measurement\n",
    "        Z = measurements[i]  # current sense\n",
    "        y = Z - np.dot(H, x)  # err between actual observation and expected observation\n",
    "        S = np.dot(np.dot(H, P), np.transpose(H)) + R\n",
    "        K = np.dot(np.dot(P, np.transpose(H)), np.linalg.inv(S))\n",
    "        \n",
    "        # posterier mu and sigma\n",
    "        x = x + np.dot(K, y)\n",
    "        P = np.dot((I - np.dot(K, H)), P)\n",
    "        \n",
    "        # predict\n",
    "        x = np.dot(F, x) + u\n",
    "        P = np.dot(np.dot(F, P), np.transpose(F))\n",
    "    return x, P"
   ]
  },
  {
   "cell_type": "code",
   "execution_count": 16,
   "metadata": {},
   "outputs": [
    {
     "name": "stdout",
     "output_type": "stream",
     "text": [
      "x_new \n",
      " [[3.99966644]\n",
      " [0.99999983]]\n",
      "P_new \n",
      " [[2.33189042 0.99916761]\n",
      " [0.99916761 0.49950058]]\n"
     ]
    }
   ],
   "source": [
    "x_new, P_new = kalman_filter(x, P)\n",
    "print(\"x_new \\n\", x_new)\n",
    "print(\"P_new \\n\", P_new)"
   ]
  },
  {
   "cell_type": "markdown",
   "metadata": {},
   "source": [
    "### 2D State\n",
    "---\n",
    "initial state: $(x, y, x', y')$ --> `(loc1, loc2, vel1, vel2)`"
   ]
  },
  {
   "cell_type": "code",
   "execution_count": 50,
   "metadata": {},
   "outputs": [],
   "source": [
    "measurements = np.array([[[5.], [10.]], [[6.], [8.]], [[7.], [6.]], [[8.], [4.]], [[9.], [2.]], [[10.], [0.]]])\n",
    "initial_xy = np.array([4., 12.])\n",
    "\n",
    "dt = 0.1\n",
    "\n",
    "x = np.array([[initial_xy[0]], [initial_xy[1]], [0.], [0.]]) # initial state (location and velocity)\n",
    "u = np.array([[0.], [0.], [0.], [0.]]) # external motion\n",
    "\n",
    "P =  np.array([[0, 0, 0, 0], [0, 0, 0, 0], [0, 0, 1000, 0], [0, 0, 0, 1000]])  # initial uncertainty: 0 for positions x and y, 1000 for the two velocities\n",
    "F =  np.array([[1, 0, 0.1, 0], [0, 1, 0, 0.1], [0, 0, 1, 0], [0, 0, 0, 1]])  # next state function: generalize the 2d version to 4d\n",
    "H =  np.array([[1, 0, 0, 0], [0, 1, 0, 0]])  # measurement function: reflect the fact that we observe x and y but not the two velocities\n",
    "R =  np.array([[0.1, 0], [0, 0.1]])  # measurement uncertainty: use 2x2 matrix with 0.1 as main diagonal\n",
    "I =  np.array([[1, 0, 0, 0], [0, 1, 0, 0], [0, 0, 1, 0], [0, 0, 0, 1]])  # 4d identity matrix"
   ]
  },
  {
   "cell_type": "code",
   "execution_count": 51,
   "metadata": {},
   "outputs": [
    {
     "name": "stdout",
     "output_type": "stream",
     "text": [
      "x_new \n",
      " [[ 11.63497546]\n",
      " [ -3.26995092]\n",
      " [ 12.7249591 ]\n",
      " [-25.4499182 ]]\n",
      "P_new \n",
      " [[0.06544265 0.         0.10907108 0.        ]\n",
      " [0.         0.06544265 0.         0.10907108]\n",
      " [0.10907108 0.         0.18178513 0.        ]\n",
      " [0.         0.10907108 0.         0.18178513]]\n"
     ]
    }
   ],
   "source": [
    "x_new, P_new = kalman_filter(x, P)\n",
    "print(\"x_new \\n\", x_new)\n",
    "print(\"P_new \\n\", P_new)"
   ]
  },
  {
   "cell_type": "code",
   "execution_count": null,
   "metadata": {},
   "outputs": [],
   "source": []
  }
 ],
 "metadata": {
  "kernelspec": {
   "display_name": "Python 3",
   "language": "python",
   "name": "python3"
  },
  "language_info": {
   "codemirror_mode": {
    "name": "ipython",
    "version": 3
   },
   "file_extension": ".py",
   "mimetype": "text/x-python",
   "name": "python",
   "nbconvert_exporter": "python",
   "pygments_lexer": "ipython3",
   "version": "3.6.5"
  }
 },
 "nbformat": 4,
 "nbformat_minor": 2
}
