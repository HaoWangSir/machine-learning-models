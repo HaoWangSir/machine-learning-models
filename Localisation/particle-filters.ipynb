{
 "cells": [
  {
   "cell_type": "markdown",
   "metadata": {},
   "source": [
    "[ref](https://classroom.udacity.com/courses/cs373/lessons/48704330/concepts/484805920923)"
   ]
  },
  {
   "cell_type": "code",
   "execution_count": 51,
   "metadata": {},
   "outputs": [],
   "source": [
    "from math import *\n",
    "import random\n",
    "import numpy as np"
   ]
  },
  {
   "cell_type": "code",
   "execution_count": 2,
   "metadata": {},
   "outputs": [],
   "source": [
    "landmarks  = [[20.0, 20.0], [80.0, 80.0], [20.0, 80.0], [80.0, 20.0]]\n",
    "world_size = 100.0\n",
    "\n",
    "\n",
    "class robot:\n",
    "    def __init__(self):\n",
    "        self.x = random.random() * world_size  # initialise with random\n",
    "        self.y = random.random() * world_size\n",
    "        self.orientation = random.random() * 2.0 * pi\n",
    "        \n",
    "        self.forward_noise = 0.0\n",
    "        self.turn_noise    = 0.0\n",
    "        self.sense_noise   = 0.0\n",
    "    \n",
    "    def set(self, new_x, new_y, new_orientation):\n",
    "        if new_x < 0 or new_x >= world_size:\n",
    "            raise ValueError('X coordinate out of bound')\n",
    "        if new_y < 0 or new_y >= world_size:\n",
    "            raise ValueError('Y coordinate out of bound')\n",
    "        if new_orientation < 0 or new_orientation >= 2 * pi:\n",
    "            raise ValueError('Orientation must be in [0..2pi]')\n",
    "        self.x = float(new_x)\n",
    "        self.y = float(new_y)\n",
    "        self.orientation = float(new_orientation)\n",
    "    \n",
    "    \n",
    "    def set_noise(self, new_f_noise, new_t_noise, new_s_noise):\n",
    "        # makes it possible to change the noise parameters\n",
    "        # this is often useful in particle filters\n",
    "        self.forward_noise = float(new_f_noise);\n",
    "        self.turn_noise    = float(new_t_noise);\n",
    "        self.sense_noise   = float(new_s_noise);\n",
    "    \n",
    "    \n",
    "    def sense(self):\n",
    "        Z = []\n",
    "        for i in range(len(landmarks)):\n",
    "            dist = sqrt((self.x - landmarks[i][0]) ** 2 + (self.y - landmarks[i][1]) ** 2)\n",
    "            dist += random.gauss(0.0, self.sense_noise)\n",
    "            Z.append(dist)\n",
    "        return Z\n",
    "    \n",
    "    \n",
    "    def move(self, turn, forward):\n",
    "        if forward < 0:\n",
    "            raise ValueError('Robot cant move backwards')\n",
    "        \n",
    "        # turn, and add randomness to the turning command\n",
    "        orientation = self.orientation + float(turn) + random.gauss(0.0, self.turn_noise)\n",
    "        orientation %= 2 * pi\n",
    "        \n",
    "        # move, and add randomness to the motion command\n",
    "        dist = float(forward) + random.gauss(0.0, self.forward_noise)\n",
    "        x = self.x + (cos(orientation) * dist)\n",
    "        y = self.y + (sin(orientation) * dist)\n",
    "        x %= world_size    # cyclic truncate\n",
    "        y %= world_size\n",
    "        \n",
    "        # set particle\n",
    "        res = robot()\n",
    "        res.set(x, y, orientation)\n",
    "        res.set_noise(self.forward_noise, self.turn_noise, self.sense_noise)\n",
    "        return res\n",
    "    \n",
    "    \n",
    "    def Gaussian(self, mu, sigma, x):\n",
    "        # calculates the probability of x for 1-dim Gaussian with mean mu and var. sigma\n",
    "        return exp(- ((mu - x) ** 2) / (sigma ** 2) / 2.0) / sqrt(2.0 * pi * (sigma ** 2))\n",
    "    \n",
    "    \n",
    "    def measurement_prob(self, measurement):\n",
    "        # calculates how likely a measurement should be\n",
    "        prob = 1.0\n",
    "        for i in range(len(landmarks)):\n",
    "            dist = sqrt((self.x - landmarks[i][0]) ** 2 + (self.y - landmarks[i][1]) ** 2)\n",
    "            prob *= self.Gaussian(dist, self.sense_noise, measurement[i])\n",
    "        return prob\n",
    "    \n",
    "    \n",
    "    def __repr__(self):\n",
    "        return '[x=%.6s y=%.6s orient=%.6s]' % (str(self.x), str(self.y), str(self.orientation))\n",
    "\n",
    "\n",
    "\n",
    "def eval(r, p):\n",
    "    s = 0.0;\n",
    "    for i in range(len(p)): # calculate mean error\n",
    "        dx = (p[i].x - r.x + (world_size/2.0)) % world_size - (world_size/2.0)\n",
    "        dy = (p[i].y - r.y + (world_size/2.0)) % world_size - (world_size/2.0)\n",
    "        err = sqrt(dx * dx + dy * dy)\n",
    "        s += err\n",
    "    return s / float(len(p))"
   ]
  },
  {
   "cell_type": "code",
   "execution_count": 30,
   "metadata": {},
   "outputs": [
    {
     "name": "stdout",
     "output_type": "stream",
     "text": [
      "[33.06686926692568, 39.3402893507033, 37.23534432750467, 34.18137281438475]\n",
      "[39.212529957622685, 48.586856817416525, 41.54059854560854, 21.899392112217093]\n"
     ]
    }
   ],
   "source": [
    "forward_noise = 5.0 \n",
    "turn_noise = 0.1\n",
    "sense_noise = 5.0  # noise variance\n",
    "\n",
    "myrobot = robot()\n",
    "\n",
    "myrobot.set_noise(forward_noise, turn_noise, sense_noise)\n",
    "myrobot.set(30., 50., pi/2)\n",
    "myrobot = myrobot.move(-pi/2, 15.)\n",
    "\n",
    "print(myrobot.sense())\n",
    "\n",
    "myrobot = myrobot.move(-pi/2, 10.)\n",
    "\n",
    "print(myrobot.sense())"
   ]
  },
  {
   "cell_type": "markdown",
   "metadata": {},
   "source": [
    "## Particles\n",
    "---\n",
    "Initialise random robots in the world\n",
    "\n",
    "### Particle Filter Steps\n",
    "---\n",
    "1. measure the probability of each particle\n",
    "2. resample based on the probability weight\n",
    "3. repeatedly move to approach orientation"
   ]
  },
  {
   "cell_type": "code",
   "execution_count": 38,
   "metadata": {},
   "outputs": [
    {
     "data": {
      "text/plain": [
       "[[x=89.958 y=44.058 orient=0.5153],\n",
       " [x=67.425 y=71.905 orient=3.0930],\n",
       " [x=11.044 y=60.100 orient=2.3018],\n",
       " [x=21.359 y=43.892 orient=4.0847],\n",
       " [x=6.6223 y=41.454 orient=0.8310]]"
      ]
     },
     "execution_count": 38,
     "metadata": {},
     "output_type": "execute_result"
    }
   ],
   "source": [
    "N = 1000\n",
    "p = []\n",
    "\n",
    "for _ in range(N):\n",
    "    x = robot()\n",
    "    x.set_noise(0.05, 0.05, 5.0)  # add noise\n",
    "    p.append(x)\n",
    "\n",
    "p[:5]"
   ]
  },
  {
   "cell_type": "code",
   "execution_count": 67,
   "metadata": {},
   "outputs": [
    {
     "name": "stdout",
     "output_type": "stream",
     "text": [
      "[x=27.984 y=67.990 orient=4.0437]\n"
     ]
    }
   ],
   "source": [
    "# actual location\n",
    "myrobot = robot()\n",
    "myrobot = myrobot.move(0.1, 5.0)\n",
    "Z = myrobot.sense()\n",
    "print(myrobot)"
   ]
  },
  {
   "cell_type": "code",
   "execution_count": 76,
   "metadata": {},
   "outputs": [
    {
     "name": "stdout",
     "output_type": "stream",
     "text": [
      "initial err 38.345686399304476\n",
      "round 0 err 3.745998779941494\n",
      "round 1 err 3.1602952926358405\n",
      "round 2 err 3.655242638130221\n",
      "round 3 err 5.1982818441233665\n",
      "round 4 err 5.663416540263246\n",
      "round 5 err 5.964230357642405\n",
      "round 6 err 6.598688724498126\n",
      "round 7 err 7.455490663989307\n",
      "round 8 err 9.468173946683207\n",
      "round 9 err 4.393607927352691\n"
     ]
    }
   ],
   "source": [
    "N = 1000\n",
    "T = 10\n",
    "\n",
    "# initialise randomly guessed particles\n",
    "p = []\n",
    "for i in range(N):\n",
    "    x = robot()\n",
    "    x.set_noise(0.05, 0.05, 5.0)\n",
    "    p.append(x)\n",
    "\n",
    "init_err = eval(myrobot, p)\n",
    "print(\"initial err\", init_err)\n",
    "\n",
    "for rd in range(T):\n",
    "    myrobot = myrobot.move(0.1, 5.0)\n",
    "    Z = myrobot.sense()\n",
    "    \n",
    "    p2 = []\n",
    "    for i in range(N):\n",
    "        # turn 0.1 and move 5 meters\n",
    "        p2.append(p[i].move(0.1, 5.0))\n",
    "    p = p2\n",
    "\n",
    "    # given the particle's location, how likely measure it as Z\n",
    "    w = []\n",
    "\n",
    "    for rob in p:\n",
    "        prob = rob.measurement_prob(Z)  # Z remains the same\n",
    "        w.append(prob)\n",
    "    \n",
    "    # resampling particles based on prabability weights\n",
    "    p3 = []\n",
    "    index = int(random.random()*N)\n",
    "    beta = 0\n",
    "    mw = max(w)\n",
    "\n",
    "    for i in range(N):\n",
    "        beta += random.random() * 2 * mw\n",
    "        while beta > w[index]:\n",
    "            beta -= w[index]\n",
    "            index = (index + 1)%N\n",
    "        p3.append(p[index])\n",
    "    p = p3\n",
    "    \n",
    "    # calculate err\n",
    "    err = eval(myrobot, p)\n",
    "    print(\"round {} err {}\".format(rd, err))"
   ]
  },
  {
   "cell_type": "code",
   "execution_count": null,
   "metadata": {},
   "outputs": [],
   "source": []
  }
 ],
 "metadata": {
  "kernelspec": {
   "display_name": "Python 3",
   "language": "python",
   "name": "python3"
  },
  "language_info": {
   "codemirror_mode": {
    "name": "ipython",
    "version": 3
   },
   "file_extension": ".py",
   "mimetype": "text/x-python",
   "name": "python",
   "nbconvert_exporter": "python",
   "pygments_lexer": "ipython3",
   "version": "3.6.5"
  }
 },
 "nbformat": 4,
 "nbformat_minor": 2
}
