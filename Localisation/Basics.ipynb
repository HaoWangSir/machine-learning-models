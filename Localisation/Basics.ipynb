{
 "cells": [
  {
   "cell_type": "markdown",
   "metadata": {},
   "source": [
    "[ref](https://classroom.udacity.com/courses/cs373)"
   ]
  },
  {
   "cell_type": "code",
   "execution_count": 1,
   "metadata": {},
   "outputs": [],
   "source": [
    "import numpy as np"
   ]
  },
  {
   "cell_type": "code",
   "execution_count": 25,
   "metadata": {},
   "outputs": [],
   "source": [
    "p = [0.2, 0.2, 0.2, 0.2, 0.2]\n",
    "world = ['green', 'red', 'red', 'green', 'green']\n",
    "Z = 'red'\n",
    "pHit = 0.6\n",
    "pMiss = 0.2"
   ]
  },
  {
   "cell_type": "markdown",
   "metadata": {},
   "source": [
    "Bayes Rule\n",
    "---\n",
    "$$ P(A|B) = \\frac{P(A)P(B|A)}{P(B)} \\hspace{1cm}(1) $$\n",
    "\n",
    "$$ P(X_2|red) = \\frac{P(X_2)P(red|X_2)}{P(red)} \\hspace{1cm}(2) $$\n",
    "\n",
    "$$ P(red) = \\sum_{i=0}^4P(X_i)P(red|X_i) \\hspace{1cm}(3) $$"
   ]
  },
  {
   "cell_type": "code",
   "execution_count": 13,
   "metadata": {},
   "outputs": [],
   "source": [
    "def sense(p, Z):\n",
    "    prob = np.array(p)\n",
    "    measure = np.array([pHit if i == Z else pMiss for i in world])\n",
    "    \n",
    "    combine_prob = prob*measure\n",
    "    \n",
    "    norm_prob = combine_prob/sum(combine_prob)\n",
    "    return norm_prob"
   ]
  },
  {
   "cell_type": "code",
   "execution_count": 11,
   "metadata": {},
   "outputs": [
    {
     "data": {
      "text/plain": [
       "array([0.11111111, 0.33333333, 0.33333333, 0.11111111, 0.11111111])"
      ]
     },
     "execution_count": 11,
     "metadata": {},
     "output_type": "execute_result"
    }
   ],
   "source": [
    "sense(p, Z)"
   ]
  },
  {
   "cell_type": "code",
   "execution_count": 26,
   "metadata": {},
   "outputs": [
    {
     "name": "stdout",
     "output_type": "stream",
     "text": [
      "sensing [red] -> prior distribution [0.11111111 0.33333333 0.33333333 0.11111111 0.11111111]\n",
      "sensing [green] -> prior distribution [0.2 0.2 0.2 0.2 0.2]\n"
     ]
    }
   ],
   "source": [
    "measurements = ['red', 'green']\n",
    "\n",
    "for i in measurements:\n",
    "    p = sense(p, i)\n",
    "    print(\"sensing [{}] -> prior distribution {}\".format(i, p))"
   ]
  },
  {
   "cell_type": "code",
   "execution_count": 34,
   "metadata": {},
   "outputs": [],
   "source": [
    "def move(p, U):\n",
    "    \"\"\"\n",
    "    p: probability distribution \n",
    "    U: number of steps moving\n",
    "    \"\"\"\n",
    "    n = len(p)\n",
    "    U = U % n\n",
    "    \n",
    "    return p[-U:] + p[:(n-U)]"
   ]
  },
  {
   "cell_type": "code",
   "execution_count": 37,
   "metadata": {
    "scrolled": true
   },
   "outputs": [
    {
     "data": {
      "text/plain": [
       "[0.33333333, 0.33333333, 0.11111111, 0.11111111, 0.11111111]"
      ]
     },
     "execution_count": 37,
     "metadata": {},
     "output_type": "execute_result"
    }
   ],
   "source": [
    "p = [0.11111111, 0.33333333, 0.33333333, 0.11111111, 0.11111111]\n",
    "\n",
    "move(p, -1)"
   ]
  },
  {
   "cell_type": "markdown",
   "metadata": {},
   "source": [
    "### Non-accurate Move"
   ]
  },
  {
   "cell_type": "markdown",
   "metadata": {},
   "source": [
    "$$ P(X_j) = \\sum_{i}P(X_i)P(X_j|X_i) \\hspace{1cm}(4) $$"
   ]
  },
  {
   "cell_type": "code",
   "execution_count": 39,
   "metadata": {},
   "outputs": [],
   "source": [
    "pExact = 0.8\n",
    "pOvershoot = 0.1\n",
    "pUndershoot = 0.1"
   ]
  },
  {
   "cell_type": "code",
   "execution_count": 44,
   "metadata": {},
   "outputs": [],
   "source": [
    "def move(p, U):\n",
    "    \"\"\"\n",
    "    movement inaccurate\n",
    "    p: probability distribution \n",
    "    U: number of steps moving\n",
    "    \"\"\"\n",
    "    p = np.array(p)\n",
    "    move_prob = np.array([pOvershoot, pExact, pUndershoot])\n",
    "    n = len(p)\n",
    "    U = U % n\n",
    "    \n",
    "    q = []\n",
    "    for i in range(n):\n",
    "        steps = [i-U-1, i-U, i-U+1]\n",
    "        q_prob = np.dot(p[steps], move_prob)\n",
    "        q.append(q_prob)\n",
    "    return q"
   ]
  },
  {
   "cell_type": "code",
   "execution_count": 46,
   "metadata": {},
   "outputs": [
    {
     "data": {
      "text/plain": [
       "[0.0, 0.1, 0.8, 0.1, 0.0]"
      ]
     },
     "execution_count": 46,
     "metadata": {},
     "output_type": "execute_result"
    }
   ],
   "source": [
    "p = [0, 1, 0, 0, 0]\n",
    "move(p, 1)"
   ]
  },
  {
   "cell_type": "code",
   "execution_count": 48,
   "metadata": {},
   "outputs": [
    {
     "name": "stdout",
     "output_type": "stream",
     "text": [
      "[0.20000004294005816, 0.20000013895694374, 0.20000004294005816, 0.19999988758147377, 0.19999988758147375]\n"
     ]
    }
   ],
   "source": [
    "# when move infinite number of times, the distribution would go normal\n",
    "p = [0, 1, 0, 0, 0]\n",
    "n = 100\n",
    "U = 2\n",
    "\n",
    "for _ in range(n):\n",
    "    p = move(p, U)\n",
    "\n",
    "print(p)"
   ]
  },
  {
   "cell_type": "markdown",
   "metadata": {},
   "source": [
    "Sense & Move Cycle\n",
    "---\n",
    "In effect, this is `Bayes Probability` + `Total Probability`\n",
    "<img src=\"sense-move.png\" width=\"600\">"
   ]
  },
  {
   "cell_type": "code",
   "execution_count": 52,
   "metadata": {},
   "outputs": [],
   "source": [
    "p = [0.2, 0.2, 0.2, 0.2, 0.2]\n",
    "world = ['green', 'red', 'red', 'green', 'green']\n",
    "measurements = ['red', 'green']\n",
    "motions = [1, 1]\n",
    "pHit = 0.6\n",
    "pMiss = 0.2\n",
    "pExact = 0.8\n",
    "pOvershoot = 0.1\n",
    "pUndershoot = 0.1"
   ]
  },
  {
   "cell_type": "code",
   "execution_count": 49,
   "metadata": {},
   "outputs": [],
   "source": [
    "def move(p, U):\n",
    "    \"\"\"\n",
    "    movement inaccurate\n",
    "    p: probability distribution \n",
    "    U: number of steps moving\n",
    "    \"\"\"\n",
    "    p = np.array(p)\n",
    "    move_prob = np.array([pOvershoot, pExact, pUndershoot])\n",
    "    n = len(p)\n",
    "    U = U % n\n",
    "    \n",
    "    q = []\n",
    "    for i in range(n):\n",
    "        steps = [i-U-1, i-U, i-U+1]\n",
    "        q_prob = np.dot(p[steps], move_prob)\n",
    "        q.append(q_prob)\n",
    "    return q"
   ]
  },
  {
   "cell_type": "code",
   "execution_count": 50,
   "metadata": {},
   "outputs": [],
   "source": [
    "def sense(p, Z):\n",
    "    prob = np.array(p)\n",
    "    measure = np.array([pHit if i == Z else pMiss for i in world])\n",
    "    \n",
    "    combine_prob = prob*measure\n",
    "    \n",
    "    norm_prob = combine_prob/sum(combine_prob)\n",
    "    return norm_prob"
   ]
  },
  {
   "cell_type": "code",
   "execution_count": 53,
   "metadata": {},
   "outputs": [
    {
     "name": "stdout",
     "output_type": "stream",
     "text": [
      "[0.21157894736842103, 0.1515789473684211, 0.08105263157894739, 0.16842105263157897, 0.3873684210526316]\n"
     ]
    }
   ],
   "source": [
    "# first sense red\n",
    "p = sense(p, \"red\")\n",
    "# move right\n",
    "p = move(p, 1)\n",
    "# second sense green\n",
    "p = sense(p, \"green\")\n",
    "# move right again\n",
    "p = move(p, 1)\n",
    "\n",
    "print(p)"
   ]
  },
  {
   "cell_type": "code",
   "execution_count": 54,
   "metadata": {},
   "outputs": [
    {
     "name": "stdout",
     "output_type": "stream",
     "text": [
      "[0.07882352941176471, 0.07529411764705884, 0.22470588235294123, 0.4329411764705882, 0.18823529411764706]\n"
     ]
    }
   ],
   "source": [
    "measurements = [\"red\", \"red\"]\n",
    "motions = [1, 1]\n",
    "p = [0.2, 0.2, 0.2, 0.2, 0.2]\n",
    "\n",
    "for i in range(len(measurements)):\n",
    "    # sense -> move\n",
    "    p = sense(p, measurements[i])\n",
    "    p = move(p, motions[i])\n",
    "print(p)"
   ]
  },
  {
   "cell_type": "code",
   "execution_count": null,
   "metadata": {},
   "outputs": [],
   "source": []
  }
 ],
 "metadata": {
  "kernelspec": {
   "display_name": "Python 3",
   "language": "python",
   "name": "python3"
  },
  "language_info": {
   "codemirror_mode": {
    "name": "ipython",
    "version": 3
   },
   "file_extension": ".py",
   "mimetype": "text/x-python",
   "name": "python",
   "nbconvert_exporter": "python",
   "pygments_lexer": "ipython3",
   "version": "3.6.5"
  }
 },
 "nbformat": 4,
 "nbformat_minor": 2
}
