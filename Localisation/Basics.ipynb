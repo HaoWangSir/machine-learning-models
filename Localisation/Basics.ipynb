{
 "cells": [
  {
   "cell_type": "code",
   "execution_count": 1,
   "metadata": {},
   "outputs": [],
   "source": [
    "import numpy as np"
   ]
  },
  {
   "cell_type": "code",
   "execution_count": 25,
   "metadata": {},
   "outputs": [],
   "source": [
    "p = [0.2, 0.2, 0.2, 0.2, 0.2]\n",
    "world = ['green', 'red', 'red', 'green', 'green']\n",
    "Z = 'red'\n",
    "pHit = 0.6\n",
    "pMiss = 0.2"
   ]
  },
  {
   "cell_type": "code",
   "execution_count": 13,
   "metadata": {},
   "outputs": [],
   "source": [
    "def sense(p, Z):\n",
    "    prob = np.array(p)\n",
    "    measure = np.array([pHit if i == Z else pMiss for i in world])\n",
    "    \n",
    "    combine_prob = prob*measure\n",
    "    \n",
    "    norm_prob = combine_prob/sum(combine_prob)\n",
    "    return norm_prob"
   ]
  },
  {
   "cell_type": "code",
   "execution_count": 11,
   "metadata": {},
   "outputs": [
    {
     "data": {
      "text/plain": [
       "array([0.11111111, 0.33333333, 0.33333333, 0.11111111, 0.11111111])"
      ]
     },
     "execution_count": 11,
     "metadata": {},
     "output_type": "execute_result"
    }
   ],
   "source": [
    "sense(p, Z)"
   ]
  },
  {
   "cell_type": "code",
   "execution_count": 14,
   "metadata": {},
   "outputs": [
    {
     "data": {
      "text/plain": [
       "array([0.27272727, 0.09090909, 0.09090909, 0.27272727, 0.27272727])"
      ]
     },
     "execution_count": 14,
     "metadata": {},
     "output_type": "execute_result"
    }
   ],
   "source": [
    "Z = 'green'\n",
    "\n",
    "sense(p, Z)"
   ]
  },
  {
   "cell_type": "code",
   "execution_count": 26,
   "metadata": {},
   "outputs": [
    {
     "name": "stdout",
     "output_type": "stream",
     "text": [
      "sensing [red] -> prior distribution [0.11111111 0.33333333 0.33333333 0.11111111 0.11111111]\n",
      "sensing [green] -> prior distribution [0.2 0.2 0.2 0.2 0.2]\n"
     ]
    }
   ],
   "source": [
    "measurements = ['red', 'green']\n",
    "\n",
    "for i in measurements:\n",
    "    p = sense(p, i)\n",
    "    print(\"sensing [{}] -> prior distribution {}\".format(i, p))"
   ]
  },
  {
   "cell_type": "code",
   "execution_count": 34,
   "metadata": {},
   "outputs": [],
   "source": [
    "def move(p, U):\n",
    "    \"\"\"\n",
    "    p: probability distribution \n",
    "    U: number of steps moving\n",
    "    \"\"\"\n",
    "    n = len(p)\n",
    "    U = U % n\n",
    "    \n",
    "    return p[-U:] + p[:(n-U)]"
   ]
  },
  {
   "cell_type": "code",
   "execution_count": 37,
   "metadata": {
    "scrolled": true
   },
   "outputs": [
    {
     "data": {
      "text/plain": [
       "[0.33333333, 0.33333333, 0.11111111, 0.11111111, 0.11111111]"
      ]
     },
     "execution_count": 37,
     "metadata": {},
     "output_type": "execute_result"
    }
   ],
   "source": [
    "p = [0.11111111, 0.33333333, 0.33333333, 0.11111111, 0.11111111]\n",
    "\n",
    "move(p, -1)"
   ]
  },
  {
   "cell_type": "markdown",
   "metadata": {},
   "source": [
    "### Non-accurate Move"
   ]
  },
  {
   "cell_type": "code",
   "execution_count": 39,
   "metadata": {},
   "outputs": [],
   "source": [
    "pExact = 0.8\n",
    "pOvershoot = 0.1\n",
    "pUndershoot = 0.1"
   ]
  },
  {
   "cell_type": "code",
   "execution_count": 44,
   "metadata": {},
   "outputs": [],
   "source": [
    "def move(p, U):\n",
    "    \"\"\"\n",
    "    movement inaccurate\n",
    "    p: probability distribution \n",
    "    U: number of steps moving\n",
    "    \"\"\"\n",
    "    p = np.array(p)\n",
    "    move_prob = np.array([pOvershoot, pExact, pUndershoot])\n",
    "    n = len(p)\n",
    "    U = U % n\n",
    "    \n",
    "    q = []\n",
    "    for i in range(n):\n",
    "        steps = [i-U-1, i-U, i-U+1]\n",
    "        q_prob = np.dot(p[steps], move_prob)\n",
    "        q.append(q_prob)\n",
    "    return q"
   ]
  },
  {
   "cell_type": "code",
   "execution_count": 46,
   "metadata": {},
   "outputs": [
    {
     "data": {
      "text/plain": [
       "[0.0, 0.1, 0.8, 0.1, 0.0]"
      ]
     },
     "execution_count": 46,
     "metadata": {},
     "output_type": "execute_result"
    }
   ],
   "source": [
    "p = [0, 1, 0, 0, 0]\n",
    "move(p, 1)"
   ]
  },
  {
   "cell_type": "code",
   "execution_count": null,
   "metadata": {},
   "outputs": [],
   "source": []
  }
 ],
 "metadata": {
  "kernelspec": {
   "display_name": "Python 3",
   "language": "python",
   "name": "python3"
  },
  "language_info": {
   "codemirror_mode": {
    "name": "ipython",
    "version": 3
   },
   "file_extension": ".py",
   "mimetype": "text/x-python",
   "name": "python",
   "nbconvert_exporter": "python",
   "pygments_lexer": "ipython3",
   "version": "3.6.5"
  }
 },
 "nbformat": 4,
 "nbformat_minor": 2
}
