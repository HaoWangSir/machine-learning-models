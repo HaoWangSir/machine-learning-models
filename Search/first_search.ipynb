{
 "cells": [
  {
   "cell_type": "code",
   "execution_count": 1,
   "metadata": {},
   "outputs": [],
   "source": [
    "from copy import deepcopy"
   ]
  },
  {
   "cell_type": "code",
   "execution_count": 2,
   "metadata": {},
   "outputs": [],
   "source": [
    "grid = [[0, 0, 1, 0, 0, 0],\n",
    "        [0, 0, 1, 0, 0, 0],\n",
    "        [0, 0, 0, 0, 1, 0],\n",
    "        [0, 0, 1, 1, 1, 0],\n",
    "        [0, 0, 0, 0, 1, 0]]\n",
    "init = [0, 0]\n",
    "goal = [len(grid)-1, len(grid[0])-1]\n",
    "cost = 1\n",
    "\n",
    "delta = [[-1, 0], # go up\n",
    "         [ 0,-1], # go left\n",
    "         [ 1, 0], # go down\n",
    "         [ 0, 1]] # go right\n",
    "\n",
    "delta_name = ['^', '<', 'v', '>']"
   ]
  },
  {
   "cell_type": "code",
   "execution_count": 3,
   "metadata": {},
   "outputs": [],
   "source": [
    "def search(grid, init, goal, cost):\n",
    "    close = deepcopy(grid)\n",
    "    close[0][0] = 1\n",
    "    \n",
    "    open_list = [[0, init[0], init[1]]]\n",
    "    \n",
    "    action = [[-1 for j in grid[0]] for i in grid]\n",
    "    while 1:\n",
    "        if len(open_list) == 0:\n",
    "            return \"failed\"\n",
    "            \n",
    "        open_list.sort()\n",
    "        open_list.reverse()\n",
    "        cur_g, cur_x, cur_y = open_list.pop()  # pop the one with the lowest g value\n",
    "        \n",
    "        if [cur_x, cur_y] == goal:\n",
    "            print(\"goal found\", [cur_g, cur_x, cur_y])\n",
    "            for i in action:\n",
    "                print(i)\n",
    "            break\n",
    "        \n",
    "        # expansion\n",
    "        for d in delta:\n",
    "            nxt_x, nxt_y = cur_x + d[0], cur_y + d[1]\n",
    "            if (nxt_x >= 0 and nxt_x < len(grid)) and (nxt_y >= 0 and nxt_y < len(grid[0])):\n",
    "                if close[nxt_x][nxt_y] == 0:\n",
    "                    nxt_g = cur_g + cost\n",
    "                    close[nxt_x][nxt_y] = 1\n",
    "                    open_list.append([nxt_g, nxt_x, nxt_y])\n",
    "                    \n",
    "                    action[nxt_x][nxt_y] = delta.index(d)\n",
    "    \n",
    "    policy = [[\" \" for j in grid[0]] for i in grid]\n",
    "    x, y = goal[0], goal[1]\n",
    "    policy[x][y] = \"*\"\n",
    "    while x != init[0] or y != init[1]:\n",
    "        # go reverse\n",
    "        x2 = x - delta[action[x][y]][0] \n",
    "        y2 = y - delta[action[x][y]][1]\n",
    "        policy[x2][y2] = delta_name[action[x][y]]\n",
    "        x = x2\n",
    "        y = y2\n",
    "    for i in policy:\n",
    "        print(i)"
   ]
  },
  {
   "cell_type": "code",
   "execution_count": 4,
   "metadata": {},
   "outputs": [
    {
     "name": "stdout",
     "output_type": "stream",
     "text": [
      "goal found [11, 4, 5]\n",
      "[-1, 3, -1, 0, 3, 3]\n",
      "[2, 2, -1, 0, 3, 3]\n",
      "[2, 2, 3, 3, -1, 2]\n",
      "[2, 2, -1, -1, -1, 2]\n",
      "[2, 2, 3, 3, -1, 2]\n",
      "['>', 'v', ' ', ' ', ' ', ' ']\n",
      "[' ', 'v', ' ', '>', '>', 'v']\n",
      "[' ', '>', '>', '^', ' ', 'v']\n",
      "[' ', ' ', ' ', ' ', ' ', 'v']\n",
      "[' ', ' ', ' ', ' ', ' ', '*']\n"
     ]
    }
   ],
   "source": [
    "search(grid, init, goal, 1)"
   ]
  },
  {
   "cell_type": "code",
   "execution_count": null,
   "metadata": {},
   "outputs": [],
   "source": []
  }
 ],
 "metadata": {
  "kernelspec": {
   "display_name": "Python 3",
   "language": "python",
   "name": "python3"
  },
  "language_info": {
   "codemirror_mode": {
    "name": "ipython",
    "version": 3
   },
   "file_extension": ".py",
   "mimetype": "text/x-python",
   "name": "python",
   "nbconvert_exporter": "python",
   "pygments_lexer": "ipython3",
   "version": "3.6.5"
  }
 },
 "nbformat": 4,
 "nbformat_minor": 2
}
