{
 "cells": [
  {
   "cell_type": "code",
   "execution_count": 1,
   "metadata": {},
   "outputs": [],
   "source": [
    "from copy import deepcopy"
   ]
  },
  {
   "cell_type": "code",
   "execution_count": 2,
   "metadata": {},
   "outputs": [],
   "source": [
    "# If a cell is a wall or it is impossible to reach the goal from a cell,\n",
    "# assign that cell a value of 99.\n",
    "# ----------\n",
    "\n",
    "grid = [[0, 1, 0, 0, 0, 0],\n",
    "        [0, 1, 0, 0, 0, 0],\n",
    "        [0, 1, 0, 0, 0, 0],\n",
    "        [0, 1, 0, 0, 0, 0],\n",
    "        [0, 0, 0, 0, 1, 0]]\n",
    "goal = [len(grid)-1, len(grid[0])-1]\n",
    "cost = 1  # the cost associated with moving from a cell to an adjacent one\n",
    "\n",
    "delta = [[-1, 0 ],  # go up\n",
    "         [ 0, -1],  # go left\n",
    "         [ 1, 0 ],  # go down\n",
    "         [ 0, 1 ]]  # go right\n",
    "\n",
    "delta_name = ['^', '<', 'v', '>']"
   ]
  },
  {
   "cell_type": "code",
   "execution_count": 16,
   "metadata": {},
   "outputs": [],
   "source": [
    "def compute_value(grid, goal, cost):\n",
    "    level = 1\n",
    "    value = [[99 for col in range(len(grid[0]))] for row in range(len(grid))]\n",
    "    value[goal[0]][goal[1]] = level\n",
    "    open = [[level, goal[0], goal[1]]]\n",
    "\n",
    "    resign = False\n",
    "    while not resign:\n",
    "        if len(open) == 0:\n",
    "            resign = True\n",
    "            break\n",
    "        else:\n",
    "            open.sort()\n",
    "            open.reverse()\n",
    "            next = open.pop()\n",
    "            level = next[0] + 1\n",
    "            x = next[1]\n",
    "            y = next[2]\n",
    "            \n",
    "            for i in range(len(delta)):\n",
    "                x2 = x + delta[i][0]\n",
    "                y2 = y + delta[i][1]\n",
    "                if x2 >= 0 and x2 < len(grid) and y2 >=0 and y2 < len(grid[0]):\n",
    "                    if value[x2][y2] == 99 and grid[x2][y2] == 0:\n",
    "                        open.append([level, x2, y2])\n",
    "                        value[x2][y2] = level\n",
    "                        \n",
    "    # get optimal policy by choosing path that reduces level score\n",
    "    policy = [[\" \" for j in grid[0]] for i in grid]\n",
    "    x, y = goal[0], goal[1]\n",
    "    policy[x][y] = \"*\"\n",
    "    \n",
    "    for x in range(len(value)):\n",
    "        for y in range(len(value[0])):\n",
    "            cur_level = value[x][y]\n",
    "            if cur_level == 99:\n",
    "                continue\n",
    "            else:\n",
    "                for i in range(len(delta)):\n",
    "                    d = delta[i]\n",
    "                    x2, y2 = x+d[0], y+d[1]\n",
    "                    if x2 >= 0 and x2 < len(value) and y2 >=0 and y2 < len(value[0]):\n",
    "                        nxt_leval = value[x2][y2]\n",
    "                        if nxt_leval < cur_level:\n",
    "                            policy[x][y] = delta_name[i]\n",
    "                            break\n",
    "    \n",
    "\n",
    "    return policy"
   ]
  },
  {
   "cell_type": "code",
   "execution_count": 17,
   "metadata": {},
   "outputs": [
    {
     "data": {
      "text/plain": [
       "[['v', ' ', 'v', 'v', 'v', 'v'],\n",
       " ['v', ' ', 'v', 'v', 'v', 'v'],\n",
       " ['v', ' ', 'v', 'v', 'v', 'v'],\n",
       " ['v', ' ', '>', '>', '>', 'v'],\n",
       " ['>', '>', '^', '^', ' ', '*']]"
      ]
     },
     "execution_count": 17,
     "metadata": {},
     "output_type": "execute_result"
    }
   ],
   "source": [
    "compute_value(grid, goal, cost)"
   ]
  },
  {
   "cell_type": "code",
   "execution_count": 18,
   "metadata": {},
   "outputs": [
    {
     "data": {
      "text/plain": [
       "[['v', 'v', ' ', 'v', 'v', 'v'],\n",
       " ['v', 'v', ' ', 'v', 'v', 'v'],\n",
       " ['v', 'v', ' ', '>', '>', 'v'],\n",
       " ['>', '>', '>', '^', ' ', 'v'],\n",
       " ['^', '^', ' ', ' ', ' ', 'v'],\n",
       " ['^', '^', '<', '<', ' ', '*']]"
      ]
     },
     "execution_count": 18,
     "metadata": {},
     "output_type": "execute_result"
    }
   ],
   "source": [
    "grid = [[0, 0, 1, 0, 0, 0],\n",
    "        [0, 0, 1, 0, 0, 0],\n",
    "        [0, 0, 1, 0, 0, 0],\n",
    "        [0, 0, 0, 0, 1, 0],\n",
    "        [0, 0, 1, 1, 1, 0],\n",
    "        [0, 0, 0, 0, 1, 0]]\n",
    "goal = [len(grid)-1, len(grid[0])-1]\n",
    "cost = 1  \n",
    "\n",
    "compute_value(grid, goal, cost)"
   ]
  },
  {
   "cell_type": "code",
   "execution_count": null,
   "metadata": {},
   "outputs": [],
   "source": []
  }
 ],
 "metadata": {
  "kernelspec": {
   "display_name": "Python 3",
   "language": "python",
   "name": "python3"
  },
  "language_info": {
   "codemirror_mode": {
    "name": "ipython",
    "version": 3
   },
   "file_extension": ".py",
   "mimetype": "text/x-python",
   "name": "python",
   "nbconvert_exporter": "python",
   "pygments_lexer": "ipython3",
   "version": "3.6.5"
  }
 },
 "nbformat": 4,
 "nbformat_minor": 2
}
