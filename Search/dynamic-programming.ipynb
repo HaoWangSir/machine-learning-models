{
 "cells": [
  {
   "cell_type": "code",
   "execution_count": 2,
   "metadata": {},
   "outputs": [],
   "source": [
    "from copy import deepcopy"
   ]
  },
  {
   "cell_type": "code",
   "execution_count": 1,
   "metadata": {},
   "outputs": [],
   "source": [
    "# If a cell is a wall or it is impossible to reach the goal from a cell,\n",
    "# assign that cell a value of 99.\n",
    "# ----------\n",
    "\n",
    "grid = [[0, 1, 0, 0, 0, 0],\n",
    "        [0, 1, 0, 0, 0, 0],\n",
    "        [0, 1, 0, 0, 0, 0],\n",
    "        [0, 1, 0, 0, 0, 0],\n",
    "        [0, 0, 0, 0, 1, 0]]\n",
    "goal = [len(grid)-1, len(grid[0])-1]\n",
    "cost = 1  # the cost associated with moving from a cell to an adjacent one\n",
    "\n",
    "delta = [[-1, 0 ],  # go up\n",
    "         [ 0, -1],  # go left\n",
    "         [ 1, 0 ],  # go down\n",
    "         [ 0, 1 ]]  # go right\n",
    "\n",
    "delta_name = ['^', '<', 'v', '>']"
   ]
  },
  {
   "cell_type": "code",
   "execution_count": 8,
   "metadata": {},
   "outputs": [],
   "source": [
    "def compute_value(grid, goal, cost):\n",
    "    level = 1\n",
    "    value = [[99 for col in range(len(grid[0]))] for row in range(len(grid))]\n",
    "    value[goal[0]][goal[1]] = level\n",
    "    open = [[level, goal[0], goal[1]]]\n",
    "\n",
    "    resign = False\n",
    "    while not resign:\n",
    "        if len(open) == 0:\n",
    "            resign = True\n",
    "            return value\n",
    "        else:\n",
    "            open.sort()\n",
    "            open.reverse()\n",
    "            next = open.pop()\n",
    "            level = next[0] + 1\n",
    "            x = next[1]\n",
    "            y = next[2]\n",
    "            \n",
    "            for i in range(len(delta)):\n",
    "                x2 = x + delta[i][0]\n",
    "                y2 = y + delta[i][1]\n",
    "                if x2 >= 0 and x2 < len(grid) and y2 >=0 and y2 < len(grid[0]):\n",
    "                    if value[x2][y2] == 99 and grid[x2][y2] == 0:\n",
    "                        open.append([level, x2, y2])\n",
    "                        value[x2][y2] = level\n",
    "\n",
    "    return value"
   ]
  },
  {
   "cell_type": "code",
   "execution_count": 9,
   "metadata": {},
   "outputs": [
    {
     "data": {
      "text/plain": [
       "[[12, 99, 8, 7, 6, 5],\n",
       " [11, 99, 7, 6, 5, 4],\n",
       " [10, 99, 6, 5, 4, 3],\n",
       " [9, 99, 5, 4, 3, 2],\n",
       " [8, 7, 6, 5, 99, 1]]"
      ]
     },
     "execution_count": 9,
     "metadata": {},
     "output_type": "execute_result"
    }
   ],
   "source": [
    "compute_value(grid, goal, cost)"
   ]
  },
  {
   "cell_type": "code",
   "execution_count": null,
   "metadata": {},
   "outputs": [],
   "source": []
  }
 ],
 "metadata": {
  "kernelspec": {
   "display_name": "Python 3",
   "language": "python",
   "name": "python3"
  },
  "language_info": {
   "codemirror_mode": {
    "name": "ipython",
    "version": 3
   },
   "file_extension": ".py",
   "mimetype": "text/x-python",
   "name": "python",
   "nbconvert_exporter": "python",
   "pygments_lexer": "ipython3",
   "version": "3.6.5"
  }
 },
 "nbformat": 4,
 "nbformat_minor": 2
}
