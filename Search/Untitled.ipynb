{
 "cells": [
  {
   "cell_type": "code",
   "execution_count": 27,
   "metadata": {},
   "outputs": [],
   "source": [
    "grid = [[0, 0, 1, 0, 0, 0],\n",
    "        [0, 0, 1, 0, 0, 0],\n",
    "        [0, 0, 0, 0, 1, 0],\n",
    "        [0, 0, 1, 1, 1, 0],\n",
    "        [0, 0, 0, 0, 1, 0]]\n",
    "init = [0, 0]\n",
    "goal = [len(grid)-1, len(grid[0])-1]\n",
    "cost = 1\n",
    "\n",
    "delta = [[-1, 0], # go up\n",
    "         [ 0,-1], # go left\n",
    "         [ 1, 0], # go down\n",
    "         [ 0, 1]] # go right\n",
    "\n",
    "delta_name = ['^', '<', 'v', '>']"
   ]
  },
  {
   "cell_type": "code",
   "execution_count": 28,
   "metadata": {},
   "outputs": [],
   "source": [
    "def search(grid, init, goal, cost):\n",
    "    \n",
    "    open_list = [[0, init[0], init[1]]]\n",
    "    grid[init[0]][init[1]] = 1\n",
    "    found = False\n",
    "    \n",
    "    while not found:\n",
    "        open_list.sort()\n",
    "        cur_g, cur_x, cur_y = open_list.pop()\n",
    "        print(\"current position\", [cur_x, cur_y])\n",
    "        if [cur_x, cur_y] == goal:\n",
    "            found = True\n",
    "        \n",
    "        # expansion\n",
    "        for d in delta:\n",
    "            nxt_x, nxt_y = cur_x + d[0], cur_y + d[1]\n",
    "            if (nxt_x >= 0 and nxt_x < len(grid)) and (nxt_y >= 0 and nxt_y < len(grid[0])):\n",
    "                if grid[nxt_x][nxt_y] == 0:\n",
    "                    nxt_g = cur_g + cost\n",
    "                    grid[nxt_x][nxt_y] = 1\n",
    "                    open_list.append([nxt_g, nxt_x, nxt_y])\n",
    "#         print(\"open list\", open_list)"
   ]
  },
  {
   "cell_type": "code",
   "execution_count": 29,
   "metadata": {},
   "outputs": [
    {
     "name": "stdout",
     "output_type": "stream",
     "text": [
      "current position [0, 0]\n",
      "current position [1, 0]\n",
      "current position [2, 0]\n",
      "current position [3, 0]\n",
      "current position [4, 0]\n",
      "current position [4, 1]\n",
      "current position [4, 2]\n",
      "current position [4, 3]\n",
      "current position [3, 1]\n",
      "current position [2, 1]\n",
      "current position [2, 2]\n",
      "current position [2, 3]\n",
      "current position [1, 3]\n",
      "current position [1, 4]\n",
      "current position [1, 5]\n",
      "current position [2, 5]\n",
      "current position [3, 5]\n"
     ]
    }
   ],
   "source": [
    "search(grid, init, goal, 1)"
   ]
  },
  {
   "cell_type": "code",
   "execution_count": null,
   "metadata": {},
   "outputs": [],
   "source": []
  }
 ],
 "metadata": {
  "kernelspec": {
   "display_name": "Python 3",
   "language": "python",
   "name": "python3"
  },
  "language_info": {
   "codemirror_mode": {
    "name": "ipython",
    "version": 3
   },
   "file_extension": ".py",
   "mimetype": "text/x-python",
   "name": "python",
   "nbconvert_exporter": "python",
   "pygments_lexer": "ipython3",
   "version": "3.6.5"
  }
 },
 "nbformat": 4,
 "nbformat_minor": 2
}
