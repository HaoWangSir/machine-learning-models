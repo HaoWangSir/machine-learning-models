{
 "cells": [
  {
   "cell_type": "markdown",
   "metadata": {},
   "source": [
    "DTW\n",
    "---\n",
    "It’s a technique used to dynamically compare time series data when the time indices between comparison data points do not sync up perfectly.\n",
    "\n",
    "In general, DTW is a method that calculates an optimal match between two given sequences (e.g. time series) with certain restriction and rules:\n",
    "\n",
    "- Every index from the first sequence must be matched with one or more indices from the other sequence, and vice versa\n",
    "- The first index from the first sequence must be matched with the first index from the other sequence (but it does not have to be its only match)\n",
    "- The last index from the first sequence must be matched with the last index from the other sequence (but it does not have to be its only match)\n",
    "- The mapping of the indices from the first sequence to indices from the other sequence must be monotonically increasing, and vice versa.\n",
    "\n",
    "The optimal match is denoted by the match that satisfies all the restrictions and the rules and that has the minimal cost, where the cost is computed as the sum of absolute differences, for each matched pair of indices, between their values."
   ]
  },
  {
   "cell_type": "code",
   "execution_count": null,
   "metadata": {},
   "outputs": [],
   "source": []
  }
 ],
 "metadata": {
  "kernelspec": {
   "display_name": "Python 3",
   "language": "python",
   "name": "python3"
  },
  "language_info": {
   "codemirror_mode": {
    "name": "ipython",
    "version": 3
   },
   "file_extension": ".py",
   "mimetype": "text/x-python",
   "name": "python",
   "nbconvert_exporter": "python",
   "pygments_lexer": "ipython3",
   "version": "3.6.5"
  }
 },
 "nbformat": 4,
 "nbformat_minor": 2
}
